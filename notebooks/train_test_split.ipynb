{
 "cells": [
  {
   "cell_type": "code",
   "execution_count": 1,
   "metadata": {},
   "outputs": [],
   "source": [
    "# import sys and update path to ..\n",
    "\n",
    "import sys\n",
    "sys.path.append('..')"
   ]
  },
  {
   "cell_type": "code",
   "execution_count": 2,
   "metadata": {},
   "outputs": [],
   "source": [
    "from src.config import Config\n",
    "from src.data import load_and_filter_data, train_test_split_pubmedqa\n",
    "import pandas as pd\n",
    "import os"
   ]
  },
  {
   "cell_type": "markdown",
   "metadata": {},
   "source": [
    "# 2. Instantiate Config and Load Data"
   ]
  },
  {
   "cell_type": "code",
   "execution_count": 3,
   "metadata": {},
   "outputs": [
    {
     "name": "stdout",
     "output_type": "stream",
     "text": [
      "DataFrame after filtering: 148863\n"
     ]
    }
   ],
   "source": [
    "cfg = Config()\n",
    "\n",
    "df = load_and_filter_data(cfg)\n",
    "print(\"DataFrame after filtering:\", len(df))\n"
   ]
  },
  {
   "cell_type": "code",
   "execution_count": null,
   "metadata": {},
   "outputs": [
    {
     "name": "stdout",
     "output_type": "stream",
     "text": [
      "Shuffled DataFrame size: 148863\n"
     ]
    }
   ],
   "source": [
    "\n",
    "\n",
    "df = df.sample(frac=1, random_state=42).reset_index(drop=True)\n",
    "print(\"Shuffled DataFrame size:\", len(df))\n"
   ]
  },
  {
   "cell_type": "markdown",
   "metadata": {},
   "source": [
    "### 4. Train/Test Split"
   ]
  },
  {
   "cell_type": "markdown",
   "metadata": {},
   "source": [
    "You have two relevant config parameters:\n",
    "\n",
    "cfg.TEST_SIZE: e.g., 1000\n",
    "cfg.TRAIN_SIZE: e.g., 2000"
   ]
  },
  {
   "cell_type": "code",
   "execution_count": 9,
   "metadata": {},
   "outputs": [
    {
     "name": "stdout",
     "output_type": "stream",
     "text": [
      "Test Split => 1000\n",
      "Train Sptlit => 2000\n"
     ]
    }
   ],
   "source": [
    "train_df, test_df = train_test_split_pubmedqa(df, test_size=cfg.TEST_SIZE, random_seed=42)\n",
    "print(f\"Test Split => {len(test_df)}\")\n",
    "\n",
    "\n",
    "train_df = train_df.sample(n=cfg.TRAIN_SIZE, random_state=42).reset_index(drop=True)\n",
    "print(f\"Train Sptlit => {cfg.TRAIN_SIZE}\")\n"
   ]
  },
  {
   "cell_type": "code",
   "execution_count": 10,
   "metadata": {},
   "outputs": [
    {
     "name": "stdout",
     "output_type": "stream",
     "text": [
      "Train head:\n"
     ]
    },
    {
     "data": {
      "text/html": [
       "<div>\n",
       "<style scoped>\n",
       "    .dataframe tbody tr th:only-of-type {\n",
       "        vertical-align: middle;\n",
       "    }\n",
       "\n",
       "    .dataframe tbody tr th {\n",
       "        vertical-align: top;\n",
       "    }\n",
       "\n",
       "    .dataframe thead th {\n",
       "        text-align: right;\n",
       "    }\n",
       "</style>\n",
       "<table border=\"1\" class=\"dataframe\">\n",
       "  <thead>\n",
       "    <tr style=\"text-align: right;\">\n",
       "      <th></th>\n",
       "      <th>pubid</th>\n",
       "      <th>question</th>\n",
       "      <th>context</th>\n",
       "      <th>long_answer</th>\n",
       "      <th>final_decision</th>\n",
       "      <th>num_contexts</th>\n",
       "    </tr>\n",
       "  </thead>\n",
       "  <tbody>\n",
       "    <tr>\n",
       "      <th>0</th>\n",
       "      <td>18796029</td>\n",
       "      <td>Does surgical site marking affect sterility?</td>\n",
       "      <td>{'contexts': ['In 2005, surgical site marking ...</td>\n",
       "      <td>Surgical site marking carried out with a non-s...</td>\n",
       "      <td>no</td>\n",
       "      <td>3</td>\n",
       "    </tr>\n",
       "    <tr>\n",
       "      <th>1</th>\n",
       "      <td>25463098</td>\n",
       "      <td>Does angiopoietin-like protein 4 significantly...</td>\n",
       "      <td>{'contexts': ['Angiopoietin-like protein 4 (AN...</td>\n",
       "      <td>We conclude that plasma ANGPTL4 levels as well...</td>\n",
       "      <td>yes</td>\n",
       "      <td>3</td>\n",
       "    </tr>\n",
       "  </tbody>\n",
       "</table>\n",
       "</div>"
      ],
      "text/plain": [
       "      pubid                                           question  \\\n",
       "0  18796029       Does surgical site marking affect sterility?   \n",
       "1  25463098  Does angiopoietin-like protein 4 significantly...   \n",
       "\n",
       "                                             context  \\\n",
       "0  {'contexts': ['In 2005, surgical site marking ...   \n",
       "1  {'contexts': ['Angiopoietin-like protein 4 (AN...   \n",
       "\n",
       "                                         long_answer final_decision  \\\n",
       "0  Surgical site marking carried out with a non-s...             no   \n",
       "1  We conclude that plasma ANGPTL4 levels as well...            yes   \n",
       "\n",
       "   num_contexts  \n",
       "0             3  \n",
       "1             3  "
      ]
     },
     "metadata": {},
     "output_type": "display_data"
    },
    {
     "name": "stdout",
     "output_type": "stream",
     "text": [
      "Test head:\n"
     ]
    },
    {
     "data": {
      "text/html": [
       "<div>\n",
       "<style scoped>\n",
       "    .dataframe tbody tr th:only-of-type {\n",
       "        vertical-align: middle;\n",
       "    }\n",
       "\n",
       "    .dataframe tbody tr th {\n",
       "        vertical-align: top;\n",
       "    }\n",
       "\n",
       "    .dataframe thead th {\n",
       "        text-align: right;\n",
       "    }\n",
       "</style>\n",
       "<table border=\"1\" class=\"dataframe\">\n",
       "  <thead>\n",
       "    <tr style=\"text-align: right;\">\n",
       "      <th></th>\n",
       "      <th>pubid</th>\n",
       "      <th>question</th>\n",
       "      <th>context</th>\n",
       "      <th>long_answer</th>\n",
       "      <th>final_decision</th>\n",
       "      <th>num_contexts</th>\n",
       "    </tr>\n",
       "  </thead>\n",
       "  <tbody>\n",
       "    <tr>\n",
       "      <th>0</th>\n",
       "      <td>22262642</td>\n",
       "      <td>Do electric pulses augment reporter gene expre...</td>\n",
       "      <td>{'contexts': ['Gene therapy of the heart has b...</td>\n",
       "      <td>The data imply that electropulsing of the myoc...</td>\n",
       "      <td>yes</td>\n",
       "      <td>3</td>\n",
       "    </tr>\n",
       "    <tr>\n",
       "      <th>1</th>\n",
       "      <td>9178081</td>\n",
       "      <td>Does lactational performance of adolescent mot...</td>\n",
       "      <td>{'contexts': ['The purposes of this study were...</td>\n",
       "      <td>This preliminary study suggests that milk prod...</td>\n",
       "      <td>yes</td>\n",
       "      <td>3</td>\n",
       "    </tr>\n",
       "  </tbody>\n",
       "</table>\n",
       "</div>"
      ],
      "text/plain": [
       "      pubid                                           question  \\\n",
       "0  22262642  Do electric pulses augment reporter gene expre...   \n",
       "1   9178081  Does lactational performance of adolescent mot...   \n",
       "\n",
       "                                             context  \\\n",
       "0  {'contexts': ['Gene therapy of the heart has b...   \n",
       "1  {'contexts': ['The purposes of this study were...   \n",
       "\n",
       "                                         long_answer final_decision  \\\n",
       "0  The data imply that electropulsing of the myoc...            yes   \n",
       "1  This preliminary study suggests that milk prod...            yes   \n",
       "\n",
       "   num_contexts  \n",
       "0             3  \n",
       "1             3  "
      ]
     },
     "metadata": {},
     "output_type": "display_data"
    }
   ],
   "source": [
    "# Inspect \n",
    "\n",
    "print(\"Train head:\")\n",
    "display(train_df.head(2))\n",
    "print(\"Test head:\")\n",
    "display(test_df.head(2))\n"
   ]
  },
  {
   "cell_type": "code",
   "execution_count": null,
   "metadata": {},
   "outputs": [],
   "source": []
  },
  {
   "cell_type": "markdown",
   "metadata": {},
   "source": [
    "### 5. Save the Splits to data/processed/"
   ]
  },
  {
   "cell_type": "code",
   "execution_count": 14,
   "metadata": {},
   "outputs": [
    {
     "name": "stdout",
     "output_type": "stream",
     "text": [
      "Saved train_df to ../data/raw/pubmedqa_train.pkl\n",
      "Saved test_df to ../data/raw/pubmedqa_test.pkl\n"
     ]
    }
   ],
   "source": [
    "os.makedirs(\"data/raw\", exist_ok=True)\n",
    "\n",
    "train_path = \"../data/raw/pubmedqa_train.pkl\"\n",
    "test_path = \"../data/raw/pubmedqa_test.pkl\"\n",
    "\n",
    "train_df.to_pickle(train_path)\n",
    "test_df.to_pickle(test_path)\n",
    "\n",
    "print(f\"Saved train_df to {train_path}\")\n",
    "print(f\"Saved test_df to {test_path}\")\n"
   ]
  },
  {
   "cell_type": "code",
   "execution_count": null,
   "metadata": {},
   "outputs": [],
   "source": []
  }
 ],
 "metadata": {
  "kernelspec": {
   "display_name": "emb_env",
   "language": "python",
   "name": "python3"
  },
  "language_info": {
   "codemirror_mode": {
    "name": "ipython",
    "version": 3
   },
   "file_extension": ".py",
   "mimetype": "text/x-python",
   "name": "python",
   "nbconvert_exporter": "python",
   "pygments_lexer": "ipython3",
   "version": "3.12.5"
  }
 },
 "nbformat": 4,
 "nbformat_minor": 2
}
